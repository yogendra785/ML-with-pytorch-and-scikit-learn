{
 "cells": [
  {
   "cell_type": "code",
   "execution_count": 1,
   "id": "05f967ce-0ce9-4e87-9ce6-2e847ea21e4c",
   "metadata": {},
   "outputs": [],
   "source": [
    "#Perceptron algorithm"
   ]
  },
  {
   "cell_type": "code",
   "execution_count": 3,
   "id": "95a2c5a5-58a5-422d-a349-39262ecf2f8b",
   "metadata": {},
   "outputs": [
    {
     "name": "stdout",
     "output_type": "stream",
     "text": [
      "[main (root-commit) b0460d5] âœ… Started with topic perceptron algorithm \"\n",
      " 1 file changed, 23 insertions(+)\n",
      " create mode 100644 Machine_learning.ipynb\n"
     ]
    },
    {
     "name": "stderr",
     "output_type": "stream",
     "text": [
      "To https://github.com/yogendra785/ML-with-pytorch-and-scikit-learn.git\n",
      " * [new branch]      main -> main\n"
     ]
    }
   ],
   "source": [
    "!git add Machine_learning.ipynb\n",
    "!git commit -m \"✅ Started with topic perceptron algorithm \"\"\n",
    "!git push\n"
   ]
  },
  {
   "cell_type": "code",
   "execution_count": null,
   "id": "de4b65b5-ec31-41f7-8d5a-f726bb79d7a7",
   "metadata": {},
   "outputs": [],
   "source": []
  }
 ],
 "metadata": {
  "kernelspec": {
   "display_name": "Python [conda env:base] *",
   "language": "python",
   "name": "conda-base-py"
  },
  "language_info": {
   "codemirror_mode": {
    "name": "ipython",
    "version": 3
   },
   "file_extension": ".py",
   "mimetype": "text/x-python",
   "name": "python",
   "nbconvert_exporter": "python",
   "pygments_lexer": "ipython3",
   "version": "3.12.7"
  }
 },
 "nbformat": 4,
 "nbformat_minor": 5
}
