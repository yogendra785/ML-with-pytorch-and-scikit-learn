{
 "cells": [
  {
   "cell_type": "code",
   "execution_count": 3,
   "id": "43136dd8-eccc-4f2f-a655-fda498693cc4",
   "metadata": {},
   "outputs": [
    {
     "name": "stderr",
     "output_type": "stream",
     "text": [
      "warning: in the working copy of 'chapter2_classifiers.ipynb', LF will be replaced by CRLF the next time Git touches it\n"
     ]
    },
    {
     "name": "stdout",
     "output_type": "stream",
     "text": [
      "[main cd659c7] Chapter 2: classifiers with scikit learn\n",
      " 1 file changed, 74 insertions(+)\n",
      " create mode 100644 chapter2_classifiers.ipynb\n"
     ]
    }
   ],
   "source": [
    "!git add chapter2_classifiers.ipynb\n",
    "!git commit -m \"Chapter 2: classifiers with scikit learn\""
   ]
  },
  {
   "cell_type": "code",
   "execution_count": null,
   "id": "86ea9b3e-e1ae-4604-8f9d-03ac9b5d0456",
   "metadata": {},
   "outputs": [],
   "source": []
  }
 ],
 "metadata": {
  "kernelspec": {
   "display_name": "Python [conda env:base] *",
   "language": "python",
   "name": "conda-base-py"
  },
  "language_info": {
   "codemirror_mode": {
    "name": "ipython",
    "version": 3
   },
   "file_extension": ".py",
   "mimetype": "text/x-python",
   "name": "python",
   "nbconvert_exporter": "python",
   "pygments_lexer": "ipython3",
   "version": "3.12.7"
  }
 },
 "nbformat": 4,
 "nbformat_minor": 5
}
