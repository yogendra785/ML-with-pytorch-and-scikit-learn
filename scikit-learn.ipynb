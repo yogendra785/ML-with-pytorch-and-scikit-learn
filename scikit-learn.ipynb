{
 "cells": [
  {
   "cell_type": "code",
   "execution_count": 10,
   "id": "68256ed6-4b6d-4de4-a658-19a41be4abd3",
   "metadata": {},
   "outputs": [],
   "source": [
    "#import matplotlib.pyplot as plt"
   ]
  },
  {
   "cell_type": "code",
   "execution_count": 11,
   "id": "f6284929-4a72-42b7-9050-d06d6cc06b9c",
   "metadata": {},
   "outputs": [],
   "source": [
    "# x=[i for i in range (10)]\n",
    "# x"
   ]
  },
  {
   "cell_type": "code",
   "execution_count": 12,
   "id": "3562e2bc-3cc4-4ccd-878f-35f25c5bd5d9",
   "metadata": {},
   "outputs": [],
   "source": [
    "# y=[2*i for  i in range(10)]\n",
    "# y"
   ]
  },
  {
   "cell_type": "code",
   "execution_count": 13,
   "id": "0de6fb6d-160e-40a5-9dce-ec114358092b",
   "metadata": {},
   "outputs": [],
   "source": [
    "\n",
    "# plt.xlabel(\"x axis\")\n",
    "# plt.ylabel(\"y axis\")\n",
    "# plt.plot(x,y)\n"
   ]
  },
  {
   "cell_type": "code",
   "execution_count": 14,
   "id": "e2b9d029-3374-403c-a688-b0b5ebfd517f",
   "metadata": {},
   "outputs": [],
   "source": [
    "#plt.scatter(x,y)"
   ]
  },
  {
   "cell_type": "code",
   "execution_count": 15,
   "id": "402ad8a9-1721-4875-a186-3b9cea265763",
   "metadata": {},
   "outputs": [],
   "source": [
    "#to save a model\n",
    "#from sklearn.externals import joblib\n",
    "#then after training a model let say name is \"mode.sav\"\n",
    "#joblib.dump(clf,filename)\n",
    "\n",
    "\n",
    "\n"
   ]
  },
  {
   "cell_type": "code",
   "execution_count": 16,
   "id": "e34fa616-2470-474e-97e6-ef7f1135a4cb",
   "metadata": {},
   "outputs": [],
   "source": [
    "# from sklearn import datasets\n",
    "# import numpy as np\n",
    "\n",
    "# iris=datasets.load_iris()\n",
    "# iris"
   ]
  },
  {
   "cell_type": "code",
   "execution_count": 17,
   "id": "41f09810-0d48-4b4f-8937-e2d4f8b9416a",
   "metadata": {},
   "outputs": [],
   "source": [
    "# x=iris.data\n",
    "# y=iris.target\n",
    "# print(x,y)"
   ]
  },
  {
   "cell_type": "code",
   "execution_count": 18,
   "id": "0e36d2b6-f9fd-41ff-a76d-a2cb02548dfd",
   "metadata": {},
   "outputs": [],
   "source": [
    "# print(x.shape)\n",
    "# print(y.shape)"
   ]
  },
  {
   "cell_type": "code",
   "execution_count": 19,
   "id": "8b6e5543-02cf-42b9-be94-30be1be90e7f",
   "metadata": {},
   "outputs": [],
   "source": [
    "# from sklearn.model_selection import train_test_split\n",
    "# x_train,x_test,y_train,y_test=train_test_split(x,y,test_size=0.2)\n",
    "# print(x_train.shape)"
   ]
  },
  {
   "cell_type": "code",
   "execution_count": 20,
   "id": "1bfdb4dc-e682-4e8a-83eb-600e81fcfa89",
   "metadata": {},
   "outputs": [],
   "source": [
    "#print(x_test.shape)"
   ]
  },
  {
   "cell_type": "code",
   "execution_count": 21,
   "id": "7795872b-4d6a-46ae-b864-afe6335d2cde",
   "metadata": {},
   "outputs": [],
   "source": [
    "##KNN algorithm"
   ]
  },
  {
   "cell_type": "code",
   "execution_count": 22,
   "id": "5246d6ad-cb1e-4747-82b8-c648c60c2b30",
   "metadata": {},
   "outputs": [],
   "source": [
    "# from sklearn import neighbors, metrics\n",
    "# from sklearn.model_selection import train_test_split\n",
    "# from sklearn.preprocessing import LabelEncoder"
   ]
  },
  {
   "cell_type": "code",
   "execution_count": 23,
   "id": "e51a664d-68cb-4118-9b81-5d1004ccfece",
   "metadata": {},
   "outputs": [],
   "source": [
    "# import pandas as pd\n",
    "# car=pd.read_csv(\"car.data\")\n",
    "# car"
   ]
  },
  {
   "cell_type": "code",
   "execution_count": 24,
   "id": "eba4e47c-1bf5-4fc3-9f1a-ff0460c77158",
   "metadata": {},
   "outputs": [],
   "source": [
    "# import pandas as pd\n",
    "\n",
    "# # Load your dataset\n",
    "# data = pd.read_csv(\"car.data\")\n",
    "\n",
    "# # Rename specific columns\n",
    "# data= car.rename(columns={\n",
    "#     'vhigh': 'buying',\n",
    "#     'vhigh.1': 'maint',\n",
    "#     '2': 'doors',\n",
    "#     '2.1': 'persons',\n",
    "#     'small': 'lug_boot',\n",
    "#     'low': 'safety',\n",
    "#     'unacc': 'class'\n",
    "# })\n"
   ]
  },
  {
   "cell_type": "code",
   "execution_count": 25,
   "id": "d7aaacb7-79c6-4ee4-affc-629a0274899d",
   "metadata": {},
   "outputs": [],
   "source": [
    "# car"
   ]
  },
  {
   "cell_type": "code",
   "execution_count": 26,
   "id": "e1158f12-f323-4aec-8490-ae5d1ec03fec",
   "metadata": {},
   "outputs": [],
   "source": [
    "# x=car[[\n",
    "#     'buying',\n",
    "#     'maint',\n",
    "#     'safety'\n",
    "# ]].values\n",
    "# y=data[['class']]\n",
    "# print(x,y)"
   ]
  },
  {
   "cell_type": "code",
   "execution_count": 27,
   "id": "5836facb-dcf9-4164-af10-d34554076865",
   "metadata": {},
   "outputs": [],
   "source": [
    "# #converting the data\n",
    "# Le=LabelEncoder()\n",
    "# for i in range(len(x[0])):\n",
    "#     x[:,i]=Le.fit_transform(x[:,i])\n",
    "# print(x)"
   ]
  },
  {
   "cell_type": "code",
   "execution_count": 28,
   "id": "82b12835-a900-47c4-8afc-ee37beea8fbc",
   "metadata": {},
   "outputs": [],
   "source": [
    "# import pandas as pd\n",
    "\n",
    "# # Assuming y is a DataFrame but might not be properly defined\n",
    "# # First, make sure y is a DataFrame\n",
    "# if not isinstance(y, pd.DataFrame):\n",
    "#     # If y is a Series, convert to DataFrame\n",
    "#     if isinstance(y, pd.Series):\n",
    "#         y = y.to_frame(name='class')\n",
    "#     # If y is a numpy array or list\n",
    "#     else:\n",
    "#         y = pd.DataFrame(y, columns=['class'])\n",
    "\n",
    "# # Now define the mapping and apply it\n",
    "# label_mapping = {\n",
    "#     'unacc': 0,\n",
    "#     'acc': 1,\n",
    "#     'good': 2,\n",
    "#     'vgood': 3\n",
    "# }\n",
    "\n",
    "# # Apply mapping to the 'class' column\n",
    "# y['class'] = y['class'].map(label_mapping)\n",
    "# y"
   ]
  },
  {
   "cell_type": "code",
   "execution_count": 29,
   "id": "8ddb9310-a732-41eb-92b6-4457245a0b6a",
   "metadata": {},
   "outputs": [],
   "source": [
    "##svm explained"
   ]
  },
  {
   "cell_type": "code",
   "execution_count": 30,
   "id": "e02ec4f2-2581-4e8f-bc48-41f66caf9e25",
   "metadata": {},
   "outputs": [],
   "source": [
    "# from sklearn import datasets\n",
    "# import numpy as np\n",
    "# from sklearn.model_selection import train_test_split\n",
    "# iris=datasets.load_iris()\n",
    "# iris"
   ]
  },
  {
   "cell_type": "code",
   "execution_count": 31,
   "id": "f604731d-8065-4acc-b6dd-b87a78b1c18c",
   "metadata": {},
   "outputs": [],
   "source": [
    "# from sklearn import svm\n",
    "# x=iris.data\n",
    "# y=iris.target\n",
    "# classes=['Iris Setosa','Iris Versicolour','Iris Virginica']\n",
    "\n",
    "# print(x.shape)\n",
    "# print(y.shape)"
   ]
  },
  {
   "cell_type": "code",
   "execution_count": 32,
   "id": "9ebfe1a1-ceaa-4afb-9c5b-300e91d1cf63",
   "metadata": {},
   "outputs": [],
   "source": [
    "#x_train,x_test,y_train,y_test=train_test_split(x,y,test_size=0.2)"
   ]
  },
  {
   "cell_type": "code",
   "execution_count": 33,
   "id": "98947f57-9fbd-42d0-af8c-6fcd165a65a6",
   "metadata": {},
   "outputs": [],
   "source": [
    "# model=svm.SVC()\n",
    "# model.fit(x_train,y_train)\n",
    "# print(model)"
   ]
  },
  {
   "cell_type": "code",
   "execution_count": 34,
   "id": "842121df-11cc-4da7-b779-de7d3d261f17",
   "metadata": {},
   "outputs": [],
   "source": [
    "# from sklearn.metrics import accuracy_score\n",
    "# predictions=model.predict(x_test)\n",
    "# accuracy=accuracy_score(y_test,predictions)\n",
    "# print(predictions)\n",
    "# print(accuracy)"
   ]
  },
  {
   "cell_type": "code",
   "execution_count": 35,
   "id": "a8659552-b0a1-4dbc-82ba-310611aae1bd",
   "metadata": {},
   "outputs": [],
   "source": [
    "#for i in range(len(predictions)):\n",
    "  #  print(classes[predictions[i]])"
   ]
  },
  {
   "cell_type": "code",
   "execution_count": null,
   "id": "596b1690-35af-44b8-b202-d405ba96ca95",
   "metadata": {},
   "outputs": [],
   "source": [
    "!git add scikit-learn.ipynb\n",
    "!git commit -m \"understanding scikit learn \"\n",
    "!git p"
   ]
  }
 ],
 "metadata": {
  "kernelspec": {
   "display_name": "Python [conda env:base] *",
   "language": "python",
   "name": "conda-base-py"
  },
  "language_info": {
   "codemirror_mode": {
    "name": "ipython",
    "version": 3
   },
   "file_extension": ".py",
   "mimetype": "text/x-python",
   "name": "python",
   "nbconvert_exporter": "python",
   "pygments_lexer": "ipython3",
   "version": "3.12.7"
  }
 },
 "nbformat": 4,
 "nbformat_minor": 5
}
